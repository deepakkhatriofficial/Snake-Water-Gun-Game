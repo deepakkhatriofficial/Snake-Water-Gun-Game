{
 "cells": [
  {
   "cell_type": "markdown",
   "id": "23ae0b57-e55d-4f17-836f-98f349fb9dec",
   "metadata": {},
   "source": [
    "# Snake Water Gun Game"
   ]
  },
  {
   "cell_type": "code",
   "execution_count": 3,
   "id": "600fb539-dc6c-438c-86c3-7b48157432dc",
   "metadata": {},
   "outputs": [
    {
     "name": "stdin",
     "output_type": "stream",
     "text": [
      "Enter your choice:  g\n"
     ]
    },
    {
     "name": "stdout",
     "output_type": "stream",
     "text": [
      "You chose Gun\n",
      "Computer chose Water\n",
      "You lose!\n"
     ]
    }
   ],
   "source": [
    "import random\n",
    "  #   1 for snake \n",
    "  #   0 for water \n",
    "  #  -1 for gun \n",
    "computer = random.choice([-1, 0, 1])\n",
    "youstr = input(\"Enter your choice: \")\n",
    "youDict = {\"s\": 1, \"w\": -1, \"g\": 0}\n",
    "reverseDict = {1: \"Snake\", -1: \"Water\", 0: \"Gun\"}\n",
    "\n",
    "you = youDict[youstr]\n",
    "\n",
    "# By now we have 2 numbers (variables), you and computer\n",
    "\n",
    "print(f\"You chose {reverseDict[you]}\\nComputer chose {reverseDict[computer]}\")\n",
    "\n",
    "if(computer == you):\n",
    "    print(\"Its a draw\")\n",
    "\n",
    "else:\n",
    "    '''\n",
    "     if(computer ==-1 and you == 1): (computer - you) = -2\n",
    "        print(\"You win!\")\n",
    "\n",
    "    elif(computer ==-1 and you == 0): (computer - you) = -1\n",
    "        print(\"You Lose!\")\n",
    "\n",
    "    elif(computer == 1 and you == -1): (computer - you) = 2\n",
    "        print(\"You lose!\")\n",
    "\n",
    "    elif(computer ==1 and you == 0): (computer - you) = 1\n",
    "        print(\"You Win!\")\n",
    "\n",
    "    elif(computer ==0 and you == -1): (computer - you) = 1\n",
    "        print(\"You Win!\")\n",
    "\n",
    "    elif(computer == 0 and you == 1): computer - you) = -1\n",
    "        print(\"You Lose!\") \n",
    "\n",
    "        # The below logic is written on the basis of the value of computer - you\n",
    " \n",
    "    '''\n",
    "    if((computer - you) == -1 or  (computer - you) == 2 ):\n",
    "        print(\"You lose!\")\n",
    "    else:\n",
    "        print(\"You win!\") "
   ]
  },
  {
   "cell_type": "code",
   "execution_count": null,
   "id": "2e66ac75-05e4-479d-9fde-6253a1732553",
   "metadata": {},
   "outputs": [],
   "source": []
  }
 ],
 "metadata": {
  "kernelspec": {
   "display_name": "Python 3 (ipykernel)",
   "language": "python",
   "name": "python3"
  },
  "language_info": {
   "codemirror_mode": {
    "name": "ipython",
    "version": 3
   },
   "file_extension": ".py",
   "mimetype": "text/x-python",
   "name": "python",
   "nbconvert_exporter": "python",
   "pygments_lexer": "ipython3",
   "version": "3.12.2"
  }
 },
 "nbformat": 4,
 "nbformat_minor": 5
}
